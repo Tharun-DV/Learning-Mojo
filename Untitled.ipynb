{
 "cells": [
  {
   "cell_type": "markdown",
   "id": "1c2405c3",
   "metadata": {},
   "source": [
    "### Getting Started with Mojo Programming By Modular\n",
    "\n",
    "```mojo\n",
    " print(\"Hello world!\");\n",
    "```\n",
    "- this will raise error `.mojo` \n",
    "- I have not idea why it works in jupyter notebook but in .mojo file it does not work\n"
   ]
  },
  {
   "cell_type": "code",
   "execution_count": 2,
   "id": "c4842b3e-7526-4ec6-862f-2b22cc45477f",
   "metadata": {},
   "outputs": [
    {
     "name": "stdout",
     "output_type": "stream",
     "text": [
      "hello world\n"
     ]
    }
   ],
   "source": [
    "print(\"hello world\");\n",
    "\n",
    "\n",
    "fn main():\n",
    "    print(\"Hello world\")"
   ]
  }
 ],
 "metadata": {
  "kernelspec": {
   "display_name": "Mojo",
   "language": "mojo",
   "name": "mojo-jupyter-kernel"
  },
  "language_info": {
   "codemirror_mode": {
    "name": "mojo"
   },
   "file_extension": ".mojo",
   "mimetype": "text/x-mojo",
   "name": "mojo"
  }
 },
 "nbformat": 4,
 "nbformat_minor": 5
}
